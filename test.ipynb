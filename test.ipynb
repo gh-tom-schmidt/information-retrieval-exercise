{
 "cells": [
  {
   "cell_type": "code",
   "execution_count": null,
   "metadata": {},
   "outputs": [],
   "source": [
    "# pip install --root-user-action=ignore git+https://github.com/terrierteam/pyterrier_doc2query.git"
   ]
  },
  {
   "cell_type": "code",
   "execution_count": 1,
   "metadata": {},
   "outputs": [
    {
     "name": "stderr",
     "output_type": "stream",
     "text": [
      "PyTerrier 0.10.0 has loaded Terrier 5.8 (built by craigm on 2023-11-01 18:05) and terrier-helper 0.0.8\n",
      "\n",
      "No etc/terrier.properties, using terrier.default.properties for bootstrap configuration.\n"
     ]
    },
    {
     "ename": "JavaException",
     "evalue": "No static methods called of in org/terrier/structures/IndexFactory matching your arguments, requested: (['In the summer, the weather is mostly hot and dry.', 'In winter, the weather is mostly wet and cold.'],), available: ['(Lorg/terrier/querying/IndexRef;)Lorg/terrier/structures/Index;', '(Ljava/lang/String;)Lorg/terrier/structures/Index;']",
     "output_type": "error",
     "traceback": [
      "\u001b[0;31m---------------------------------------------------------------------------\u001b[0m",
      "\u001b[0;31mJavaException\u001b[0m                             Traceback (most recent call last)",
      "Cell \u001b[0;32mIn[1], line 18\u001b[0m\n\u001b[1;32m     15\u001b[0m querry \u001b[38;5;241m=\u001b[39m \u001b[38;5;124m\"\u001b[39m\u001b[38;5;124mweather summer\u001b[39m\u001b[38;5;124m\"\u001b[39m\n\u001b[1;32m     17\u001b[0m \u001b[38;5;66;03m# Create an index for the documents\u001b[39;00m\n\u001b[0;32m---> 18\u001b[0m index_ref \u001b[38;5;241m=\u001b[39m \u001b[43mIndexFactory\u001b[49m\u001b[38;5;241;43m.\u001b[39;49m\u001b[43mof\u001b[49m\u001b[43m(\u001b[49m\u001b[43mdocuments\u001b[49m\u001b[43m)\u001b[49m\u001b[38;5;241m.\u001b[39mget_index()\n\u001b[1;32m     20\u001b[0m \u001b[38;5;66;03m# Searching using BM25\u001b[39;00m\n\u001b[1;32m     21\u001b[0m bm25 \u001b[38;5;241m=\u001b[39m BatchRetrieve(index_ref, wmodel\u001b[38;5;241m=\u001b[39m\u001b[38;5;124m\"\u001b[39m\u001b[38;5;124mBM25\u001b[39m\u001b[38;5;124m\"\u001b[39m, verbose\u001b[38;5;241m=\u001b[39m\u001b[38;5;28;01mTrue\u001b[39;00m)\n",
      "File \u001b[0;32m/usr/local/lib/python3.10/dist-packages/pyterrier/bootstrap.py:117\u001b[0m, in \u001b[0;36mIndexFactory.of\u001b[0;34m(indexlike, memory)\u001b[0m\n\u001b[1;32m    115\u001b[0m \u001b[38;5;28;01mif\u001b[39;00m memory \u001b[38;5;129;01mor\u001b[39;00m (\u001b[38;5;28misinstance\u001b[39m(memory, \u001b[38;5;28mlist\u001b[39m) \u001b[38;5;129;01mand\u001b[39;00m \u001b[38;5;28mlen\u001b[39m(memory) \u001b[38;5;241m>\u001b[39m \u001b[38;5;241m0\u001b[39m): \u001b[38;5;66;03m#MEMORY CAN BE A LIST?\u001b[39;00m\n\u001b[1;32m    116\u001b[0m     IOD\u001b[38;5;241m.\u001b[39msetIndexLoadingProfileAsRetrieval(\u001b[38;5;28;01mFalse\u001b[39;00m)\n\u001b[0;32m--> 117\u001b[0m index \u001b[38;5;241m=\u001b[39m \u001b[43mautoclass\u001b[49m\u001b[43m(\u001b[49m\u001b[38;5;124;43m\"\u001b[39;49m\u001b[38;5;124;43morg.terrier.structures.IndexFactory\u001b[39;49m\u001b[38;5;124;43m\"\u001b[39;49m\u001b[43m)\u001b[49m\u001b[38;5;241;43m.\u001b[39;49m\u001b[43mof\u001b[49m\u001b[43m(\u001b[49m\u001b[43mindexlike\u001b[49m\u001b[43m)\u001b[49m\n\u001b[1;32m    119\u001b[0m \u001b[38;5;66;03m# noop if memory is False\u001b[39;00m\n\u001b[1;32m    120\u001b[0m IOD\u001b[38;5;241m.\u001b[39msetIndexLoadingProfileAsRetrieval(load_profile)\n",
      "File \u001b[0;32mjnius/jnius_export_class.pxi:1149\u001b[0m, in \u001b[0;36mjnius.JavaMultipleMethod.__call__\u001b[0;34m()\u001b[0m\n",
      "\u001b[0;31mJavaException\u001b[0m: No static methods called of in org/terrier/structures/IndexFactory matching your arguments, requested: (['In the summer, the weather is mostly hot and dry.', 'In winter, the weather is mostly wet and cold.'],), available: ['(Lorg/terrier/querying/IndexRef;)Lorg/terrier/structures/Index;', '(Ljava/lang/String;)Lorg/terrier/structures/Index;']"
     ]
    }
   ],
   "source": [
    "from tira.third_party_integrations import ensure_pyterrier_is_loaded\n",
    "from tira.rest_api_client import Client\n",
    "\n",
    "ensure_pyterrier_is_loaded()\n",
    "tira = Client()\n",
    "\n",
    "from pyterrier import BatchRetrieve, IndexFactory\n",
    "\n",
    "# List of documents (strings)\n",
    "documents = [\n",
    "    \"In the summer, the weather is mostly hot and dry.\",\n",
    "    \"In winter, the weather is mostly wet and cold.\"\n",
    "]\n",
    "\n",
    "querry = \"weather summer\"\n",
    "\n",
    "# Create an index for the documents\n",
    "index_ref = IndexFactory.of(documents).get_index()\n",
    "\n",
    "# Searching using BM25\n",
    "bm25 = BatchRetrieve(index_ref, wmodel=\"BM25\", verbose=True)\n",
    "results = bm25.search(querry)\n",
    "\n",
    "# Print results\n",
    "print(results)\n"
   ]
  },
  {
   "cell_type": "markdown",
   "metadata": {},
   "source": []
  },
  {
   "cell_type": "markdown",
   "metadata": {},
   "source": []
  },
  {
   "cell_type": "code",
   "execution_count": 4,
   "metadata": {},
   "outputs": [],
   "source": [
    "index = pt.IndexFactory.of(\"./out/\")"
   ]
  },
  {
   "cell_type": "code",
   "execution_count": 5,
   "metadata": {},
   "outputs": [
    {
     "name": "stdout",
     "output_type": "stream",
     "text": [
      "Number of documents: 2\n",
      "Number of terms: 7\n",
      "Number of postings: 8\n",
      "Number of fields: 0\n",
      "Number of tokens: 8\n",
      "Field names: []\n",
      "Positions:   false\n",
      "\n"
     ]
    }
   ],
   "source": [
    "print(index.getCollectionStatistics().toString())"
   ]
  },
  {
   "cell_type": "code",
   "execution_count": 6,
   "metadata": {},
   "outputs": [
    {
     "data": {
      "text/plain": [
       "1"
      ]
     },
     "execution_count": 6,
     "metadata": {},
     "output_type": "execute_result"
    }
   ],
   "source": [
    "index.getLexicon()[\"summer\"].getDocumentFrequency()\n"
   ]
  },
  {
   "cell_type": "code",
   "execution_count": 7,
   "metadata": {},
   "outputs": [
    {
     "name": "stdout",
     "output_type": "stream",
     "text": [
      "hot with frequency 1\n",
      "weather with frequency 1\n",
      "dry with frequency 1\n",
      "summer with frequency 1\n"
     ]
    }
   ],
   "source": [
    "di = index.getDirectIndex()\n",
    "doi = index.getDocumentIndex()\n",
    "lex = index.getLexicon()\n",
    "\n",
    "docid = 0 #docids are 0-based\n",
    "\n",
    "#NB: postings will be null if the document is empty\n",
    "for posting in di.getPostings(doi.getDocumentEntry(docid)):\n",
    "  termid = posting.getId()\n",
    "  lee = lex.getLexiconEntry(termid)\n",
    "  print(\"%s with frequency %d\" % (lee.getKey(),posting.getFrequency()))"
   ]
  },
  {
   "cell_type": "code",
   "execution_count": 8,
   "metadata": {},
   "outputs": [
    {
     "name": "stdout",
     "output_type": "stream",
     "text": [
      "weather with frequency 1\n",
      "cold with frequency 1\n",
      "wet with frequency 1\n",
      "winter with frequency 1\n"
     ]
    }
   ],
   "source": [
    "di = index.getDirectIndex()\n",
    "doi = index.getDocumentIndex()\n",
    "lex = index.getLexicon()\n",
    "\n",
    "docid = 1 #docids are 0-based\n",
    "\n",
    "#NB: postings will be null if the document is empty\n",
    "for posting in di.getPostings(doi.getDocumentEntry(docid)):\n",
    "  termid = posting.getId()\n",
    "  lee = lex.getLexiconEntry(termid)\n",
    "  print(\"%s with frequency %d\" % (lee.getKey(),posting.getFrequency()))"
   ]
  },
  {
   "cell_type": "code",
   "execution_count": null,
   "metadata": {},
   "outputs": [],
   "source": []
  }
 ],
 "metadata": {
  "kernelspec": {
   "display_name": "Python 3",
   "language": "python",
   "name": "python3"
  },
  "language_info": {
   "codemirror_mode": {
    "name": "ipython",
    "version": 3
   },
   "file_extension": ".py",
   "mimetype": "text/x-python",
   "name": "python",
   "nbconvert_exporter": "python",
   "pygments_lexer": "ipython3",
   "version": "3.10.12"
  }
 },
 "nbformat": 4,
 "nbformat_minor": 2
}
